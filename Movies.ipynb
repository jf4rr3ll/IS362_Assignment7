{
 "cells": [
  {
   "cell_type": "markdown",
   "metadata": {},
   "source": [
    "# IS362 - Assignment 7"
   ]
  },
  {
   "cell_type": "markdown",
   "metadata": {},
   "source": [
    "Choose six recent popular movies. Ask at least five people that you know (friends, family, classmates,\n",
    "imaginary friends) to rate each of these movies that they have seen on a scale of 1 to 5. There should be\n",
    "at least one movie that not everyone has seen!\n",
    "Take the results (observations) and store them somewhere (like a SQL database, or a .CSV file). Load the\n",
    "information into a pandas dataframe. Your solution should include Python and pandas code that\n",
    "accomplishes the following:\n",
    "1. Load the ratings by user information that you collected into a pandas dataframe.\n",
    "2. Show the average ratings for each user and each movie.\n",
    "3. Create a new pandas dataframe, with normalized ratings for each user. Again, show the average\n",
    "ratings for each user and each movie.\n",
    "4. Provide a text-based conclusion: explain what might be advantages and disadvantages of using\n",
    "normalized ratings instead of the actual ratings.\n",
    "5. [Extra credit] Create another new pandas dataframe, with standardized ratings for each user.\n",
    "Once again, show the average ratings for each user and each movie."
   ]
  },
  {
   "cell_type": "markdown",
   "metadata": {},
   "source": [
    "As always, I will start by importing the modules we will use in this assignment:"
   ]
  },
  {
   "cell_type": "code",
   "execution_count": 22,
   "metadata": {
    "collapsed": true
   },
   "outputs": [],
   "source": [
    "import pandas as pd\n",
    "import numpy as np"
   ]
  },
  {
   "cell_type": "markdown",
   "metadata": {},
   "source": [
    "Now I will open the CSV file we will be working with:"
   ]
  },
  {
   "cell_type": "code",
   "execution_count": 24,
   "metadata": {
    "collapsed": false
   },
   "outputs": [],
   "source": [
    "movie_ratings = pd.read_csv(\"C:/Users/Jessica/Desktop/John's School/IS362/IS362_Assignment7/movie_ratings.csv\", index_col=0)"
   ]
  },
  {
   "cell_type": "markdown",
   "metadata": {},
   "source": [
    "Now let's take a look at the data:"
   ]
  },
  {
   "cell_type": "code",
   "execution_count": 25,
   "metadata": {
    "collapsed": false
   },
   "outputs": [
    {
     "data": {
      "text/html": [
       "<div>\n",
       "<table border=\"1\" class=\"dataframe\">\n",
       "  <thead>\n",
       "    <tr style=\"text-align: right;\">\n",
       "      <th></th>\n",
       "      <th>Beauty and the Beast</th>\n",
       "      <th>Logan</th>\n",
       "      <th>Kong: Skull Island</th>\n",
       "      <th>Get Out</th>\n",
       "      <th>John Wick 2</th>\n",
       "      <th>The Lego Batman Movie</th>\n",
       "    </tr>\n",
       "  </thead>\n",
       "  <tbody>\n",
       "    <tr>\n",
       "      <th>John</th>\n",
       "      <td>3</td>\n",
       "      <td>4.0</td>\n",
       "      <td>2.0</td>\n",
       "      <td>4.0</td>\n",
       "      <td>5.0</td>\n",
       "      <td>NaN</td>\n",
       "    </tr>\n",
       "    <tr>\n",
       "      <th>Jessica</th>\n",
       "      <td>4</td>\n",
       "      <td>4.0</td>\n",
       "      <td>3.0</td>\n",
       "      <td>NaN</td>\n",
       "      <td>5.0</td>\n",
       "      <td>4.0</td>\n",
       "    </tr>\n",
       "    <tr>\n",
       "      <th>Chris</th>\n",
       "      <td>2</td>\n",
       "      <td>3.0</td>\n",
       "      <td>NaN</td>\n",
       "      <td>NaN</td>\n",
       "      <td>NaN</td>\n",
       "      <td>NaN</td>\n",
       "    </tr>\n",
       "    <tr>\n",
       "      <th>Michelle</th>\n",
       "      <td>5</td>\n",
       "      <td>3.0</td>\n",
       "      <td>NaN</td>\n",
       "      <td>NaN</td>\n",
       "      <td>4.0</td>\n",
       "      <td>5.0</td>\n",
       "    </tr>\n",
       "    <tr>\n",
       "      <th>Sandie</th>\n",
       "      <td>5</td>\n",
       "      <td>3.0</td>\n",
       "      <td>2.0</td>\n",
       "      <td>5.0</td>\n",
       "      <td>4.0</td>\n",
       "      <td>5.0</td>\n",
       "    </tr>\n",
       "    <tr>\n",
       "      <th>Garrett</th>\n",
       "      <td>3</td>\n",
       "      <td>NaN</td>\n",
       "      <td>4.0</td>\n",
       "      <td>5.0</td>\n",
       "      <td>NaN</td>\n",
       "      <td>3.0</td>\n",
       "    </tr>\n",
       "  </tbody>\n",
       "</table>\n",
       "</div>"
      ],
      "text/plain": [
       "          Beauty and the Beast  Logan  Kong: Skull Island  Get Out  \\\n",
       "John                         3    4.0                 2.0      4.0   \n",
       "Jessica                      4    4.0                 3.0      NaN   \n",
       "Chris                        2    3.0                 NaN      NaN   \n",
       "Michelle                     5    3.0                 NaN      NaN   \n",
       "Sandie                       5    3.0                 2.0      5.0   \n",
       "Garrett                      3    NaN                 4.0      5.0   \n",
       "\n",
       "          John Wick 2  The Lego Batman Movie  \n",
       "John              5.0                    NaN  \n",
       "Jessica           5.0                    4.0  \n",
       "Chris             NaN                    NaN  \n",
       "Michelle          4.0                    5.0  \n",
       "Sandie            4.0                    5.0  \n",
       "Garrett           NaN                    3.0  "
      ]
     },
     "execution_count": 25,
     "metadata": {},
     "output_type": "execute_result"
    }
   ],
   "source": [
    "movie_ratings"
   ]
  },
  {
   "cell_type": "markdown",
   "metadata": {},
   "source": [
    "## Average Ratings By Movie"
   ]
  },
  {
   "cell_type": "markdown",
   "metadata": {},
   "source": [
    "First we want to see the average rating for each movie. We can use \"mean\" to accomplish this:"
   ]
  },
  {
   "cell_type": "code",
   "execution_count": 26,
   "metadata": {
    "collapsed": false
   },
   "outputs": [
    {
     "data": {
      "text/plain": [
       "Beauty and the Beast     3.666667\n",
       "Logan                    3.400000\n",
       "Kong: Skull Island       2.750000\n",
       "Get Out                  4.666667\n",
       "John Wick 2              4.500000\n",
       "The Lego Batman Movie    4.250000\n",
       "dtype: float64"
      ]
     },
     "execution_count": 26,
     "metadata": {},
     "output_type": "execute_result"
    }
   ],
   "source": [
    "average_by_movie = movie_ratings.mean()\n",
    "average_by_movie"
   ]
  },
  {
   "cell_type": "markdown",
   "metadata": {},
   "source": [
    "## Averages Ratings By Viewer"
   ]
  },
  {
   "cell_type": "markdown",
   "metadata": {},
   "source": [
    "We also want to see the average rating for each viewer. (That way we can see if someone is a spoilsport who just never likes anything anyway!)"
   ]
  },
  {
   "cell_type": "code",
   "execution_count": 27,
   "metadata": {
    "collapsed": false
   },
   "outputs": [
    {
     "data": {
      "text/plain": [
       "John        3.60\n",
       "Jessica     4.00\n",
       "Chris       2.50\n",
       "Michelle    4.25\n",
       "Sandie      4.00\n",
       "Garrett     3.75\n",
       "dtype: float64"
      ]
     },
     "execution_count": 27,
     "metadata": {},
     "output_type": "execute_result"
    }
   ],
   "source": [
    "average_by_viewer = movie_ratings.mean(axis=1)\n",
    "average_by_viewer"
   ]
  },
  {
   "cell_type": "markdown",
   "metadata": {},
   "source": [
    "## Normalized Ratings By Movie"
   ]
  },
  {
   "cell_type": "markdown",
   "metadata": {},
   "source": [
    "Now we want to look at the normalized ratings by movie. This helps to account for outliers in the data. "
   ]
  },
  {
   "cell_type": "markdown",
   "metadata": {},
   "source": [
    "We also want to look at the average of the normalized ratings:"
   ]
  },
  {
   "cell_type": "code",
   "execution_count": 28,
   "metadata": {
    "collapsed": false
   },
   "outputs": [
    {
     "data": {
      "text/html": [
       "<div>\n",
       "<table border=\"1\" class=\"dataframe\">\n",
       "  <thead>\n",
       "    <tr style=\"text-align: right;\">\n",
       "      <th></th>\n",
       "      <th>Beauty and the Beast</th>\n",
       "      <th>Logan</th>\n",
       "      <th>Kong: Skull Island</th>\n",
       "      <th>Get Out</th>\n",
       "      <th>John Wick 2</th>\n",
       "      <th>The Lego Batman Movie</th>\n",
       "    </tr>\n",
       "  </thead>\n",
       "  <tbody>\n",
       "    <tr>\n",
       "      <th>John</th>\n",
       "      <td>0.333333</td>\n",
       "      <td>1.0</td>\n",
       "      <td>0.0</td>\n",
       "      <td>0.0</td>\n",
       "      <td>1.0</td>\n",
       "      <td>NaN</td>\n",
       "    </tr>\n",
       "    <tr>\n",
       "      <th>Jessica</th>\n",
       "      <td>0.666667</td>\n",
       "      <td>1.0</td>\n",
       "      <td>0.5</td>\n",
       "      <td>NaN</td>\n",
       "      <td>1.0</td>\n",
       "      <td>0.5</td>\n",
       "    </tr>\n",
       "    <tr>\n",
       "      <th>Chris</th>\n",
       "      <td>0.000000</td>\n",
       "      <td>0.0</td>\n",
       "      <td>NaN</td>\n",
       "      <td>NaN</td>\n",
       "      <td>NaN</td>\n",
       "      <td>NaN</td>\n",
       "    </tr>\n",
       "    <tr>\n",
       "      <th>Michelle</th>\n",
       "      <td>1.000000</td>\n",
       "      <td>0.0</td>\n",
       "      <td>NaN</td>\n",
       "      <td>NaN</td>\n",
       "      <td>0.0</td>\n",
       "      <td>1.0</td>\n",
       "    </tr>\n",
       "    <tr>\n",
       "      <th>Sandie</th>\n",
       "      <td>1.000000</td>\n",
       "      <td>0.0</td>\n",
       "      <td>0.0</td>\n",
       "      <td>1.0</td>\n",
       "      <td>0.0</td>\n",
       "      <td>1.0</td>\n",
       "    </tr>\n",
       "    <tr>\n",
       "      <th>Garrett</th>\n",
       "      <td>0.333333</td>\n",
       "      <td>NaN</td>\n",
       "      <td>1.0</td>\n",
       "      <td>1.0</td>\n",
       "      <td>NaN</td>\n",
       "      <td>0.0</td>\n",
       "    </tr>\n",
       "  </tbody>\n",
       "</table>\n",
       "</div>"
      ],
      "text/plain": [
       "          Beauty and the Beast  Logan  Kong: Skull Island  Get Out  \\\n",
       "John                  0.333333    1.0                 0.0      0.0   \n",
       "Jessica               0.666667    1.0                 0.5      NaN   \n",
       "Chris                 0.000000    0.0                 NaN      NaN   \n",
       "Michelle              1.000000    0.0                 NaN      NaN   \n",
       "Sandie                1.000000    0.0                 0.0      1.0   \n",
       "Garrett               0.333333    NaN                 1.0      1.0   \n",
       "\n",
       "          John Wick 2  The Lego Batman Movie  \n",
       "John              1.0                    NaN  \n",
       "Jessica           1.0                    0.5  \n",
       "Chris             NaN                    NaN  \n",
       "Michelle          0.0                    1.0  \n",
       "Sandie            0.0                    1.0  \n",
       "Garrett           NaN                    0.0  "
      ]
     },
     "execution_count": 28,
     "metadata": {},
     "output_type": "execute_result"
    }
   ],
   "source": [
    "normalized_ratings = (movie_ratings - movie_ratings.min()) / (movie_ratings.max() - movie_ratings.min())\n",
    "normalized_ratings"
   ]
  },
  {
   "cell_type": "code",
   "execution_count": 29,
   "metadata": {
    "collapsed": false
   },
   "outputs": [
    {
     "data": {
      "text/plain": [
       "Beauty and the Beast     0.555556\n",
       "Logan                    0.400000\n",
       "Kong: Skull Island       0.375000\n",
       "Get Out                  0.666667\n",
       "John Wick 2              0.500000\n",
       "The Lego Batman Movie    0.625000\n",
       "dtype: float64"
      ]
     },
     "execution_count": 29,
     "metadata": {},
     "output_type": "execute_result"
    }
   ],
   "source": [
    "average_normalized_ratings_by_movie = normalized_ratings.mean()\n",
    "average_normalized_ratings_by_movie"
   ]
  },
  {
   "cell_type": "markdown",
   "metadata": {},
   "source": [
    "## Normalized Ratings By Viewer"
   ]
  },
  {
   "cell_type": "markdown",
   "metadata": {},
   "source": [
    "We also want to consider the normalized ratings by user:"
   ]
  },
  {
   "cell_type": "code",
   "execution_count": 30,
   "metadata": {
    "collapsed": false
   },
   "outputs": [
    {
     "data": {
      "text/plain": [
       "John        0.466667\n",
       "Jessica     0.733333\n",
       "Chris       0.000000\n",
       "Michelle    0.500000\n",
       "Sandie      0.500000\n",
       "Garrett     0.583333\n",
       "dtype: float64"
      ]
     },
     "execution_count": 30,
     "metadata": {},
     "output_type": "execute_result"
    }
   ],
   "source": [
    "average_normalized_by_viewer = normalized_ratings.mean(axis=1)\n",
    "average_normalized_by_viewer"
   ]
  },
  {
   "cell_type": "markdown",
   "metadata": {},
   "source": [
    "## Standardized Ratings By Movie"
   ]
  },
  {
   "cell_type": "markdown",
   "metadata": {},
   "source": [
    "In addition to looking at the normalized ratings, we want to examine the standardized ratings by movie. "
   ]
  },
  {
   "cell_type": "code",
   "execution_count": 33,
   "metadata": {
    "collapsed": false
   },
   "outputs": [
    {
     "data": {
      "text/html": [
       "<div>\n",
       "<table border=\"1\" class=\"dataframe\">\n",
       "  <thead>\n",
       "    <tr style=\"text-align: right;\">\n",
       "      <th></th>\n",
       "      <th>Beauty and the Beast</th>\n",
       "      <th>Logan</th>\n",
       "      <th>Kong: Skull Island</th>\n",
       "      <th>Get Out</th>\n",
       "      <th>John Wick 2</th>\n",
       "      <th>The Lego Batman Movie</th>\n",
       "    </tr>\n",
       "  </thead>\n",
       "  <tbody>\n",
       "    <tr>\n",
       "      <th>John</th>\n",
       "      <td>-0.550482</td>\n",
       "      <td>1.095445</td>\n",
       "      <td>-0.783349</td>\n",
       "      <td>-1.154701</td>\n",
       "      <td>0.866025</td>\n",
       "      <td>NaN</td>\n",
       "    </tr>\n",
       "    <tr>\n",
       "      <th>Jessica</th>\n",
       "      <td>0.275241</td>\n",
       "      <td>1.095445</td>\n",
       "      <td>0.261116</td>\n",
       "      <td>NaN</td>\n",
       "      <td>0.866025</td>\n",
       "      <td>-0.261116</td>\n",
       "    </tr>\n",
       "    <tr>\n",
       "      <th>Chris</th>\n",
       "      <td>-1.376205</td>\n",
       "      <td>-0.730297</td>\n",
       "      <td>NaN</td>\n",
       "      <td>NaN</td>\n",
       "      <td>NaN</td>\n",
       "      <td>NaN</td>\n",
       "    </tr>\n",
       "    <tr>\n",
       "      <th>Michelle</th>\n",
       "      <td>1.100964</td>\n",
       "      <td>-0.730297</td>\n",
       "      <td>NaN</td>\n",
       "      <td>NaN</td>\n",
       "      <td>-0.866025</td>\n",
       "      <td>0.783349</td>\n",
       "    </tr>\n",
       "    <tr>\n",
       "      <th>Sandie</th>\n",
       "      <td>1.100964</td>\n",
       "      <td>-0.730297</td>\n",
       "      <td>-0.783349</td>\n",
       "      <td>0.577350</td>\n",
       "      <td>-0.866025</td>\n",
       "      <td>0.783349</td>\n",
       "    </tr>\n",
       "    <tr>\n",
       "      <th>Garrett</th>\n",
       "      <td>-0.550482</td>\n",
       "      <td>NaN</td>\n",
       "      <td>1.305582</td>\n",
       "      <td>0.577350</td>\n",
       "      <td>NaN</td>\n",
       "      <td>-1.305582</td>\n",
       "    </tr>\n",
       "  </tbody>\n",
       "</table>\n",
       "</div>"
      ],
      "text/plain": [
       "          Beauty and the Beast     Logan  Kong: Skull Island   Get Out  \\\n",
       "John                 -0.550482  1.095445           -0.783349 -1.154701   \n",
       "Jessica               0.275241  1.095445            0.261116       NaN   \n",
       "Chris                -1.376205 -0.730297                 NaN       NaN   \n",
       "Michelle              1.100964 -0.730297                 NaN       NaN   \n",
       "Sandie                1.100964 -0.730297           -0.783349  0.577350   \n",
       "Garrett              -0.550482       NaN            1.305582  0.577350   \n",
       "\n",
       "          John Wick 2  The Lego Batman Movie  \n",
       "John         0.866025                    NaN  \n",
       "Jessica      0.866025              -0.261116  \n",
       "Chris             NaN                    NaN  \n",
       "Michelle    -0.866025               0.783349  \n",
       "Sandie      -0.866025               0.783349  \n",
       "Garrett           NaN              -1.305582  "
      ]
     },
     "execution_count": 33,
     "metadata": {},
     "output_type": "execute_result"
    }
   ],
   "source": [
    "standardized_ratings_by_movie = (movie_ratings - movie_ratings.mean()) / movie_ratings.std()\n",
    "standardized_ratings_by_movie"
   ]
  },
  {
   "cell_type": "markdown",
   "metadata": {},
   "source": [
    "## Standardized Ratings By Viewer"
   ]
  },
  {
   "cell_type": "markdown",
   "metadata": {},
   "source": [
    "Finally, we want to look at the standardized ratings by user."
   ]
  },
  {
   "cell_type": "code",
   "execution_count": 34,
   "metadata": {
    "collapsed": false
   },
   "outputs": [
    {
     "data": {
      "text/plain": [
       "John       -0.105412\n",
       "Jessica     0.447342\n",
       "Chris      -1.053251\n",
       "Michelle    0.071998\n",
       "Sandie      0.013665\n",
       "Garrett     0.006717\n",
       "dtype: float64"
      ]
     },
     "execution_count": 34,
     "metadata": {},
     "output_type": "execute_result"
    }
   ],
   "source": [
    "standardized_ratings_by_viewer = standardized_ratings_by_movie.mean(axis=1)\n",
    "standardized_ratings_by_viewer"
   ]
  },
  {
   "cell_type": "markdown",
   "metadata": {},
   "source": [
    "By looking at the data, the averages, the normalized data and its averages, and the standardized data and its averages, we are able to get a more complete look at the data that accounts for anomalies like outliers or duplicates."
   ]
  }
 ],
 "metadata": {
  "kernelspec": {
   "display_name": "Python 3",
   "language": "python",
   "name": "python3"
  },
  "language_info": {
   "codemirror_mode": {
    "name": "ipython",
    "version": 3
   },
   "file_extension": ".py",
   "mimetype": "text/x-python",
   "name": "python",
   "nbconvert_exporter": "python",
   "pygments_lexer": "ipython3",
   "version": "3.6.0"
  }
 },
 "nbformat": 4,
 "nbformat_minor": 2
}
